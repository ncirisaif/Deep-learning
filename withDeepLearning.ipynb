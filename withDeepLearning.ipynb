{
 "cells": [
  {
   "cell_type": "code",
   "execution_count": 2,
   "metadata": {},
   "outputs": [],
   "source": [
    "import pandas as pd\n",
    "import tensorflow as tf\n",
    "from tensorflow import keras\n",
    "from sklearn.model_selection import train_test_split\n",
    "import numpy as np\n"
   ]
  },
  {
   "cell_type": "code",
   "execution_count": 11,
   "metadata": {},
   "outputs": [],
   "source": [
    "properties = list(df.columns.values)\n",
    "properties.remove('target')\n",
    "X = df[properties]\n",
    "y = df['target']\n",
    "\n",
    "X_train, X_test, y_train, y_test = train_test_split(X, y, test_size=0.3, random_state=0)\n",
    "\n"
   ]
  },
  {
   "cell_type": "code",
   "execution_count": null,
   "metadata": {},
   "outputs": [],
   "source": []
  },
  {
   "cell_type": "code",
   "execution_count": 25,
   "metadata": {},
   "outputs": [],
   "source": [
    "from tensorflow.keras import optimizers\n"
   ]
  },
  {
   "cell_type": "code",
   "execution_count": 26,
   "metadata": {},
   "outputs": [],
   "source": [
    "from tensorflow.keras import losses\n",
    "from tensorflow.keras import metrics\n",
    "model.compile(optimizer=optimizers.RMSprop(lr=0.001),\n",
    "loss=losses.binary_crossentropy,\n",
    "metrics=[metrics.binary_accuracy])"
   ]
  },
  {
   "cell_type": "code",
   "execution_count": null,
   "metadata": {},
   "outputs": [],
   "source": []
  },
  {
   "cell_type": "code",
   "execution_count": 61,
   "metadata": {},
   "outputs": [],
   "source": [
    "x_val = X[:15000]\n",
    "partial_x_train = X[15000:]\n",
    "y_val = y[:15000]\n",
    "partial_y_train = y[15000:]"
   ]
  },
  {
   "cell_type": "code",
   "execution_count": null,
   "metadata": {},
   "outputs": [],
   "source": []
  },
  {
   "cell_type": "code",
   "execution_count": 69,
   "metadata": {},
   "outputs": [],
   "source": [
    "model = keras.Sequential([\n",
    "    keras.layers.Flatten(input_shape=(156,)),\n",
    "    keras.layers.Dense(128, activation=tf.nn.relu),\n",
    "    keras.layers.Dense(64, activation=tf.nn.relu),\n",
    "        keras.layers.Dense(16, activation=tf.nn.relu),\n",
    "\n",
    "    keras.layers.Dense(1, activation=tf.nn.sigmoid),\n",
    "])\n",
    "\n"
   ]
  },
  {
   "cell_type": "code",
   "execution_count": 70,
   "metadata": {},
   "outputs": [],
   "source": [
    "model.compile(optimizer='adam',\n",
    "              loss='binary_crossentropy',\n",
    "              metrics=['accuracy'])\n",
    "\n"
   ]
  },
  {
   "cell_type": "code",
   "execution_count": 71,
   "metadata": {},
   "outputs": [
    {
     "name": "stdout",
     "output_type": "stream",
     "text": [
      "Model: \"sequential_1\"\n",
      "_________________________________________________________________\n",
      "Layer (type)                 Output Shape              Param #   \n",
      "=================================================================\n",
      "flatten_1 (Flatten)          (None, 156)               0         \n",
      "_________________________________________________________________\n",
      "dense_3 (Dense)              (None, 128)               20096     \n",
      "_________________________________________________________________\n",
      "dense_4 (Dense)              (None, 64)                8256      \n",
      "_________________________________________________________________\n",
      "dense_5 (Dense)              (None, 16)                1040      \n",
      "_________________________________________________________________\n",
      "dense_6 (Dense)              (None, 1)                 17        \n",
      "=================================================================\n",
      "Total params: 29,409\n",
      "Trainable params: 29,409\n",
      "Non-trainable params: 0\n",
      "_________________________________________________________________\n"
     ]
    }
   ],
   "source": [
    "model.summary()"
   ]
  },
  {
   "cell_type": "code",
   "execution_count": 72,
   "metadata": {},
   "outputs": [
    {
     "name": "stdout",
     "output_type": "stream",
     "text": [
      "Train on 24703 samples, validate on 15000 samples\n",
      "Epoch 1/15\n",
      "24703/24703 [==============================] - 4s 147us/sample - loss: 0.1218 - accuracy: 0.9661 - val_loss: 0.0660 - val_accuracy: 0.9862\n",
      "Epoch 2/15\n",
      "24703/24703 [==============================] - 3s 107us/sample - loss: 0.0646 - accuracy: 0.9877 - val_loss: 0.0543 - val_accuracy: 0.9908\n",
      "Epoch 3/15\n",
      "24703/24703 [==============================] - 3s 106us/sample - loss: 0.0568 - accuracy: 0.9900 - val_loss: 0.0591 - val_accuracy: 0.9907\n",
      "Epoch 4/15\n",
      "24703/24703 [==============================] - 3s 109us/sample - loss: 0.0561 - accuracy: 0.9903 - val_loss: 0.0516 - val_accuracy: 0.9908\n",
      "Epoch 5/15\n",
      "24703/24703 [==============================] - 3s 108us/sample - loss: 0.0543 - accuracy: 0.9903 - val_loss: 0.0559 - val_accuracy: 0.9905\n",
      "Epoch 6/15\n",
      "24703/24703 [==============================] - 3s 111us/sample - loss: 0.0553 - accuracy: 0.9900 - val_loss: 0.0535 - val_accuracy: 0.9907\n",
      "Epoch 7/15\n",
      "24703/24703 [==============================] - 3s 115us/sample - loss: 0.0532 - accuracy: 0.9902 - val_loss: 0.0516 - val_accuracy: 0.9907\n",
      "Epoch 8/15\n",
      "24703/24703 [==============================] - 3s 113us/sample - loss: 0.0529 - accuracy: 0.9902 - val_loss: 0.0551 - val_accuracy: 0.9903\n",
      "Epoch 9/15\n",
      "24703/24703 [==============================] - 3s 111us/sample - loss: 0.0548 - accuracy: 0.9889 - val_loss: 0.0511 - val_accuracy: 0.9908\n",
      "Epoch 10/15\n",
      "24703/24703 [==============================] - 3s 108us/sample - loss: 0.0523 - accuracy: 0.9904 - val_loss: 0.0534 - val_accuracy: 0.9907\n",
      "Epoch 11/15\n",
      "24703/24703 [==============================] - 3s 109us/sample - loss: 0.0526 - accuracy: 0.9902 - val_loss: 0.0514 - val_accuracy: 0.9908\n",
      "Epoch 12/15\n",
      "24703/24703 [==============================] - 3s 118us/sample - loss: 0.0522 - accuracy: 0.9902 - val_loss: 0.0517 - val_accuracy: 0.9907\n",
      "Epoch 13/15\n",
      "24703/24703 [==============================] - 3s 112us/sample - loss: 0.0517 - accuracy: 0.9903 - val_loss: 0.0507 - val_accuracy: 0.9907\n",
      "Epoch 14/15\n",
      "24703/24703 [==============================] - 3s 108us/sample - loss: 0.0506 - accuracy: 0.9904 - val_loss: 0.0504 - val_accuracy: 0.9907\n",
      "Epoch 15/15\n",
      "24703/24703 [==============================] - 3s 113us/sample - loss: 0.0516 - accuracy: 0.9903 - val_loss: 0.0502 - val_accuracy: 0.9907\n"
     ]
    }
   ],
   "source": [
    "history = model.fit(X_train, y_train, epochs=15, batch_size=32,validation_data=(x_val, y_val))\n",
    "\n"
   ]
  },
  {
   "cell_type": "code",
   "execution_count": 73,
   "metadata": {},
   "outputs": [
    {
     "data": {
      "text/plain": [
       "dict_keys(['loss', 'accuracy', 'val_loss', 'val_accuracy'])"
      ]
     },
     "execution_count": 73,
     "metadata": {},
     "output_type": "execute_result"
    }
   ],
   "source": [
    "history_dict = history.history\n",
    "history_dict.keys()"
   ]
  },
  {
   "cell_type": "code",
   "execution_count": 75,
   "metadata": {},
   "outputs": [
    {
     "data": {
      "image/png": "[encoded data removed]",
      "text/plain": [
       "<Figure size 432x288 with 1 Axes>"
      ]
     },
     "metadata": {
      "needs_background": "light"
     },
     "output_type": "display_data"
    }
   ],
   "source": [
    "import matplotlib.pyplot as plt\n",
    "history_dict = history.history\n",
    "loss_values = history_dict['loss']\n",
    "val_loss_values = history_dict['val_loss']\n",
    "epochs = range(1, len(history_dict['accuracy']) + 1)\n",
    "plt.plot(epochs, loss_values, 'go', label='Training loss')\n",
    "plt.plot(epochs, val_loss_values, 'b', label='Validation loss')\n",
    "plt.title('Training and validation loss')\n",
    "plt.xlabel('Epochs')\n",
    "plt.ylabel('Loss')\n",
    "plt.legend()\n",
    "plt.show()"
   ]
  },
  {
   "cell_type": "code",
   "execution_count": 77,
   "metadata": {},
   "outputs": [
    {
     "data": {
      "image/png": "[encoded data removed]",
      "text/plain": [
       "<Figure size 432x288 with 1 Axes>"
      ]
     },
     "metadata": {
      "needs_background": "light"
     },
     "output_type": "display_data"
    }
   ],
   "source": [
    "plt.clf()\n",
    "acc_values = history_dict['accuracy']\n",
    "val_acc_values = history_dict['val_accuracy']\n",
    "plt.plot(epochs, history_dict['accuracy'], 'bo', label='Training acc')\n",
    "plt.plot(epochs, history_dict['val_accuracy'], 'g', label='Validation acc')\n",
    "plt.title('Training and validation accuracy')\n",
    "plt.xlabel('Epochs')\n",
    "plt.ylabel('Loss')\n",
    "plt.legend()\n",
    "plt.show()"
   ]
  },
  {
   "cell_type": "code",
   "execution_count": 78,
   "metadata": {},
   "outputs": [
    {
     "name": "stdout",
     "output_type": "stream",
     "text": [
      "10587/10587 [==============================] - 1s 48us/sample - loss: 0.0549 - accuracy: 0.9904\n",
      "Test accuracy: 0.99036556\n"
     ]
    }
   ],
   "source": [
    "test_loss, test_acc = model.evaluate(X_test, y_test)\n",
    "print('Test accuracy:', test_acc)"
   ]
  },
  {
   "cell_type": "code",
   "execution_count": null,
   "metadata": {},
   "outputs": [],
   "source": []
  }
 ],
 "metadata": {
  "kernelspec": {
   "display_name": "Python 3",
   "language": "python",
   "name": "python3"
  },
  "language_info": {
   "codemirror_mode": {
    "name": "ipython",
    "version": 3
   },
   "file_extension": ".py",
   "mimetype": "text/x-python",
   "name": "python",
   "nbconvert_exporter": "python",
   "pygments_lexer": "ipython3",
   "version": "3.6.8"
  }
 },
 "nbformat": 4,
 "nbformat_minor": 4
}
