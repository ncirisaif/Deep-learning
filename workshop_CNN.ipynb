{
 "cells": [
  {
   "cell_type": "markdown",
   "metadata": {
    "colab_type": "text",
    "id": "laPyhwHArrN-"
   },
   "source": [
    "## 4DS3\n",
    "\n",
    "*  Salma Achour\n",
    "*  Saifeddine Ouled Abid Encir\n",
    "*  Elyes Ben Dakhlia\n",
    "*  Mohamed Laroussi\n",
    "\n"
   ]
  },
  {
   "cell_type": "markdown",
   "metadata": {
    "colab_type": "text",
    "id": "2E_cZYTrwjmd"
   },
   "source": [
    "<h1> LAB 4 : Réseau de neurones à convolution </h1>\n",
    "\n",
    "<p>Pour un ordinateur, une image est une matrice de valeurs correspondant aux pixels. Une image en couleur possède trois canaux. C'est à dire qu'on a 3 valeurs pour chaque pixels. Ces trois valeurs représentent le niveau de rouge, de vert et de bleu. On peut imaginer 3 matrices constituées de valeurs de pixels superposées, donnant une matrice en 3D. Par exemple, pour une image d'une taille de 200 par 200 pixels, sa matrice correspondante aura une taille de 200 multiplié par 200 multiplié par 3 (nombre de canaux). En revanche, pour une image en noir et blanc, sa matrice correspondante ne sera qu'en 2D car possédant qu'un seul canal. Ici, la valeur d'un pixel indique le niveau de gris, cela suffit pour une image en noir et blanc. Les valeurs d'un pixel sont mappées sur 256 bits, c'est-à-dire allant de 0 à 255.\n",
    "Lorsqu'on compare deux images directement entres elles, s’il y a ne serait-ce qu’un pixel contenant différentes valeurs, alors les images sont considérées comme étant différentes par l’ordinateur. C’est là que les CNNs entrent en jeu.    \n",
    "</p>\n",
    "\n",
    "\n"
   ]
  },
  {
   "cell_type": "markdown",
   "metadata": {
    "colab_type": "text",
    "id": "ThdzttN-wjmh"
   },
   "source": [
    "<h2> Filte </h2>\n",
    "Comme une image, le filtre est une matrice de valeurs mais elle a généralement de petites dimensions et bien souvent carrées. La taille de filtre la plus utilisée est de 3 par 3.\n",
    "\n",
    "![image.png](attachment:image.png)"
   ]
  },
  {
   "cell_type": "markdown",
   "metadata": {
    "colab_type": "text",
    "id": "2i0chZPCwjmj"
   },
   "source": [
    "Un filtre sert à faire extraire certaines caractéristiques d'une image donnée (couleur, contour, luminosité, netteté, etc...). Ce filtre va etre déplacé par pas successifs sur l'ensemble de image.\n",
    "![image.png](attachment:image.png)\n",
    " "
   ]
  },
  {
   "cell_type": "markdown",
   "metadata": {
    "colab_type": "text",
    "id": "qc4-I5NSwjmk"
   },
   "source": [
    "Pour chaque position du filtre, les valeurs des deux matrices en superposition (filtre et image à traiter) sont multipliées. Chaque valeur ainsi inférée est projetée dans une nouvelle matrice. Cette matrice représente une nouvelle image qui fait ressortir les caractéristiques recherchées au travers du filtre.\n",
    "L'image ci-dessous montre un exemple de calcul. Les valeurs de l'image à traiter sont anormalement petites, mais c'est juste pour comprendre plus facilement le calcul effectué:\n",
    "![image.png](attachment:image.png)\n",
    "\n",
    "En fonction des valeurs et de la taille de la matrice du filtre, nous obtenons une nouvelle image plus ou moins modifiée. Par exemple, avec une première image comme celle affichée ci-dessous, on peut la transformer dans le but de produire plusieurs variantes. Voici le résultat de différentes transformations à l'aide de plusieurs filtres couramment utilisés (détection de bord, floutage, etc...)"
   ]
  },
  {
   "cell_type": "markdown",
   "metadata": {
    "colab_type": "text",
    "id": "IxM8gvSGwjml"
   },
   "source": [
    "![image.png](attachment:image.png)\n",
    "\n",
    "<p>Le nombre de filtres determinera le nombre de caractéristiques détectées. Ce nombre est appelé la profondeur. L'usage de filtres est la base dans un réseau à convolution. En pratique, lors de la phase d'entrainement, plusieurs filtres sont testés avec des valeurs différentes. Les meilleures, par rapport au jeu d'entrainement, sont retenues. Les paramètres essentiels doivent être précisés avant l'entrainement, notamment: le nombre, la taille des filtres et leur pas de déplacement.</p>\n",
    "\n",
    "</p>Il est préférable de ne pas utiliser de filtres trop petits ou un nombre de filtres trop important car cela peut entraîner un sur-apprentissage.</p>\n",
    "\n",
    " \n",
    "\n",
    " "
   ]
  },
  {
   "cell_type": "markdown",
   "metadata": {
    "colab_type": "text",
    "id": "CqUDXQLSwjmn"
   },
   "source": [
    "<h2> Le Pooling</h2>\n",
    "Le Pooling est un procédé important dans un réseau à convolution. En extrayant les valeurs importantes des pixels, il permet de réduire une image tout en conservant les caractéristiques pertinentes. La méthode la plus utilisée est le \"Max Pooling\". Elle consiste à réduire l'image en conservant les valeurs les plus grandes des pixels. Pour ce faire, on a une tuile qui se déplace (comme un filtre) sur la surface de notre image. À chaque position de la tuile, on extrait la valeur la plus haute et ne retient que celle là. Cela produit une nouvelle image avec uniquement les valeurs remarquables de l'image.\n",
    "\n",
    "L'image ci dessous montre un exemple de Pooling. La tuile a, ici, des dimensions de 3 par 3. L'image de 9 par 9 pixels de départ est réduite en une image de 7 par 7 pixels.\n",
    "![image.png](attachment:image.png)\n",
    "En réduisant l'image, le nombre de données traitées diminue et donc le temps de calcul sera aussi réduit. \n",
    "Il existe d'autres méthodes que le \"Max Pooling\", par exemple:<ul>\n",
    "\n",
    "<li>\"Average Pooling\" : Moyenne de toutes les valeurs recouvertes par la tuile.</li>\n",
    "\n",
    "<li>\"Pooling stochastique\" : Ne retient qu'une seule valeur, comme le \"Max Pooling\", mais en se basant sur une méthode probabiliste.</li></ul>\n",
    "\n",
    "En pratique, le \"Max Pooling\" est la méthode qui donne le plus souvent les meilleurs resultats.\n",
    "\n"
   ]
  },
  {
   "cell_type": "markdown",
   "metadata": {
    "colab_type": "text",
    "id": "cStIscDuwjmo"
   },
   "source": [
    "<h2>La convolution</h2>\n",
    "<p>Le principe d'un réseau à convolution, c'est l'enchainement d'étapes. Chaque étape consiste à appliquer des filtres puis une phase de Pooling sur le résulat de chaque filtre.\n",
    "L'image obtenue après la première étape est réutilisée en entrée de l'étape suivante (filtrage + pooling) et ainsi de suite... Chaque étape est appellé un niveau. Un réseau à convolution peut avoir plusieurs niveaux.\n",
    "\n",
    "Lors de l'apprentissage, chaque niveau de convolution doit retenir les filtres les plus pertinents. Cette selection est opérée grâce à un réseau neuronal interne à chaque niveau de convolution. Comme dans un réseau neuronal classique, les poids et biais de ce réseau évoluent; le critère de convergence étant, que les patterns (\"images\") en sortie caractérisent le mieux l'image de départ.</p>\n"
   ]
  },
  {
   "cell_type": "markdown",
   "metadata": {
    "colab_type": "text",
    "id": "v5IcajP3wjmq"
   },
   "source": [
    "<h1> Travail demandé </h1>\n",
    "\n",
    "<p>Durant cette séance est nous allons classer les images en niveaux de gris de chiffres manuscrits (28 pixels par 28 pixels), dans leurs 10 catégories (0 à 9) en utilisant un réseau de neurones  à convolution . Implémenter un réseau neuronal composé de couches convolutives et entièrement connectées pour classer les chiffres manuscrits de l'ensemble de données MNIST. L'ensemble de données étiqueté se compose de 42000 images de taille 28x28 = 784 pixels (niveau de gris), y compris les étiquettes correspondantes de 0, .., 9. L'ensemble de test comprend 28 000 images. Chaque image est normalisée de telle sorte que chaque pixel prend des valeurs dans la plage [0,1].\n",
    "\n",
    "</p> \n"
   ]
  },
  {
   "cell_type": "code",
   "execution_count": 4,
   "metadata": {
    "colab": {
     "base_uri": "https://localhost:8080/",
     "height": 77
    },
    "colab_type": "code",
    "id": "JKpJK9zjwjmr",
    "outputId": "fc0cbdf7-6f2f-498b-9829-cc45e1708aa3"
   },
   "outputs": [
    {
     "name": "stderr",
     "output_type": "stream",
     "text": [
      "Using TensorFlow backend.\n"
     ]
    },
    {
     "data": {
      "text/html": [
       "<p style=\"color: red;\">\n",
       "The default version of TensorFlow in Colab will soon switch to TensorFlow 2.x.<br>\n",
       "We recommend you <a href=\"https://www.tensorflow.org/guide/migrate\" target=\"_blank\">upgrade</a> now \n",
       "or ensure your notebook will continue to use TensorFlow 1.x via the <code>%tensorflow_version 1.x</code> magic:\n",
       "<a href=\"https://colab.research.google.com/notebooks/tensorflow_version.ipynb\" target=\"_blank\">more info</a>.</p>\n"
      ],
      "text/plain": [
       "<IPython.core.display.HTML object>"
      ]
     },
     "metadata": {
      "tags": []
     },
     "output_type": "display_data"
    }
   ],
   "source": [
    "import keras\n",
    "from keras.utils import to_categorical\n",
    "from keras.datasets import mnist\n",
    "from keras.models import Sequential\n",
    "from keras.layers import Dense, Dropout, Flatten\n",
    "from keras.layers import Conv2D, MaxPooling2D\n",
    "from keras.optimizers import SGD\n",
    "from keras import regularizers\n",
    "import matplotlib.pyplot as plt"
   ]
  },
  {
   "cell_type": "code",
   "execution_count": null,
   "metadata": {
    "colab": {},
    "colab_type": "code",
    "id": "5N8ofRf9wjmx"
   },
   "outputs": [],
   "source": [
    "# Initialisation\n",
    "batch_size = 64\n",
    "num_classes = 10\n",
    "epochs = 10"
   ]
  },
  {
   "cell_type": "code",
   "execution_count": null,
   "metadata": {
    "colab": {},
    "colab_type": "code",
    "id": "LHydSMwbwjm1"
   },
   "outputs": [],
   "source": [
    "# input image dimensions\n",
    "img_rows, img_cols = 28,28"
   ]
  },
  {
   "cell_type": "code",
   "execution_count": 7,
   "metadata": {
    "colab": {
     "base_uri": "https://localhost:8080/",
     "height": 50
    },
    "colab_type": "code",
    "id": "_JyfutE2wjm5",
    "outputId": "c63f7b1e-f120-4d5f-b55c-ac57a74de7c9"
   },
   "outputs": [
    {
     "name": "stdout",
     "output_type": "stream",
     "text": [
      "Downloading data from https://s3.amazonaws.com/img-datasets/mnist.npz\n",
      "11493376/11490434 [==============================] - 1s 0us/step\n"
     ]
    }
   ],
   "source": [
    "# load the data, split between train and test sets\n",
    "(x_train, y_train), (x_test, y_test) = mnist.load_data()"
   ]
  },
  {
   "cell_type": "code",
   "execution_count": null,
   "metadata": {
    "colab": {},
    "colab_type": "code",
    "id": "ImJoYMTdwjm8"
   },
   "outputs": [],
   "source": [
    "# reshape images \n",
    "x_train = x_train.reshape(x_train.shape[0], img_rows, img_cols, 1)\n",
    "x_test = x_test.reshape(x_test.shape[0], img_rows, img_cols, 1)\n",
    "input_shape = (60000, 28, 28)"
   ]
  },
  {
   "cell_type": "code",
   "execution_count": null,
   "metadata": {
    "colab": {},
    "colab_type": "code",
    "id": "0IfRJATPwjnA"
   },
   "outputs": [],
   "source": [
    "# Normalise images\n",
    "x_train =x_train.astype('float32')\n",
    "x_test = x_test.astype('float32')\n",
    "x_train /= 255.0\n",
    "x_test /= 255.0"
   ]
  },
  {
   "cell_type": "code",
   "execution_count": null,
   "metadata": {
    "colab": {},
    "colab_type": "code",
    "id": "YzhQQGDmwjnC"
   },
   "outputs": [],
   "source": [
    "# convert class vectors to binary class matrices\n",
    "train_labels = to_categorical(y_train)\n",
    "test_labels = to_categorical(y_test)"
   ]
  },
  {
   "cell_type": "markdown",
   "metadata": {
    "colab_type": "text",
    "id": "b6mDHj9NBYSz"
   },
   "source": [
    "# SIMPLE HOLD-OUT VALIDATION"
   ]
  },
  {
   "cell_type": "markdown",
   "metadata": {
    "colab_type": "text",
    "id": "PwKkU_mTBlM7"
   },
   "source": [
    "## Setting aside a validation set"
   ]
  },
  {
   "cell_type": "code",
   "execution_count": null,
   "metadata": {
    "colab": {},
    "colab_type": "code",
    "id": "xsiPfGPnBquQ"
   },
   "outputs": [],
   "source": [
    "x_val = x_train[:10000]\n",
    "partial_x_train = x_train[10000:]\n",
    "y_val = y_train[:10000]\n",
    "partial_y_train = y_train[10000:]\n",
    "\n",
    "partial_train_labels = to_categorical(partial_y_train)\n",
    "y_val_labels = to_categorical(y_val)\n"
   ]
  },
  {
   "cell_type": "markdown",
   "metadata": {
    "colab_type": "text",
    "id": "L5JMA5khhNJH"
   },
   "source": [
    "### Defining the model"
   ]
  },
  {
   "cell_type": "code",
   "execution_count": 12,
   "metadata": {
    "colab": {
     "base_uri": "https://localhost:8080/",
     "height": 167
    },
    "colab_type": "code",
    "id": "66n1k_ege9IF",
    "outputId": "3a9583fa-767b-4bbc-d6b9-cf225cb680b3"
   },
   "outputs": [
    {
     "name": "stdout",
     "output_type": "stream",
     "text": [
      "WARNING:tensorflow:From /usr/local/lib/python3.6/dist-packages/keras/backend/tensorflow_backend.py:66: The name tf.get_default_graph is deprecated. Please use tf.compat.v1.get_default_graph instead.\n",
      "\n",
      "WARNING:tensorflow:From /usr/local/lib/python3.6/dist-packages/keras/backend/tensorflow_backend.py:541: The name tf.placeholder is deprecated. Please use tf.compat.v1.placeholder instead.\n",
      "\n",
      "WARNING:tensorflow:From /usr/local/lib/python3.6/dist-packages/keras/backend/tensorflow_backend.py:4432: The name tf.random_uniform is deprecated. Please use tf.random.uniform instead.\n",
      "\n",
      "WARNING:tensorflow:From /usr/local/lib/python3.6/dist-packages/keras/backend/tensorflow_backend.py:4267: The name tf.nn.max_pool is deprecated. Please use tf.nn.max_pool2d instead.\n",
      "\n"
     ]
    }
   ],
   "source": [
    "model1 = Sequential()\n",
    "# keras.layers.Conv2D(filters, kernel_size, strides=(1, 1), padding='valid')\n",
    "model1.add(Conv2D(32, (3, 3), activation='relu', input_shape=(28, 28, 1))) #Conv2D avec 32 filters , kernel size 3*3 , relu activation , input shape     \n",
    "model1.add(Conv2D(64, (3, 3), activation='relu')) #Conv2D avec 64 filters , kernel size 3*3 , relu activation\n",
    "model1.add(MaxPooling2D((2, 2))) #MaxPooling2D avec pool_size 2*2\n",
    "model1.add(Flatten()) # Flatten\n",
    "model1.add(Dense(128, activation='relu')) # Dense avec 128 units \n",
    "model1.add(Dense(10, activation='softmax')) # Dense"
   ]
  },
  {
   "cell_type": "code",
   "execution_count": 13,
   "metadata": {
    "colab": {
     "base_uri": "https://localhost:8080/",
     "height": 342
    },
    "colab_type": "code",
    "id": "K8yCrKVbfD-n",
    "outputId": "bbe0a329-e71e-40a9-fd3c-babe2a8971f8"
   },
   "outputs": [
    {
     "name": "stdout",
     "output_type": "stream",
     "text": [
      "Model: \"sequential_1\"\n",
      "_________________________________________________________________\n",
      "Layer (type)                 Output Shape              Param #   \n",
      "=================================================================\n",
      "conv2d_1 (Conv2D)            (None, 26, 26, 32)        320       \n",
      "_________________________________________________________________\n",
      "conv2d_2 (Conv2D)            (None, 24, 24, 64)        18496     \n",
      "_________________________________________________________________\n",
      "max_pooling2d_1 (MaxPooling2 (None, 12, 12, 64)        0         \n",
      "_________________________________________________________________\n",
      "flatten_1 (Flatten)          (None, 9216)              0         \n",
      "_________________________________________________________________\n",
      "dense_1 (Dense)              (None, 128)               1179776   \n",
      "_________________________________________________________________\n",
      "dense_2 (Dense)              (None, 10)                1290      \n",
      "=================================================================\n",
      "Total params: 1,199,882\n",
      "Trainable params: 1,199,882\n",
      "Non-trainable params: 0\n",
      "_________________________________________________________________\n"
     ]
    }
   ],
   "source": [
    "model1.summary()"
   ]
  },
  {
   "cell_type": "markdown",
   "metadata": {
    "colab_type": "text",
    "id": "6RhKOVI_hGBg"
   },
   "source": [
    "### Compiling the model"
   ]
  },
  {
   "cell_type": "code",
   "execution_count": 14,
   "metadata": {
    "colab": {
     "base_uri": "https://localhost:8080/",
     "height": 102
    },
    "colab_type": "code",
    "id": "nv0nW-IrfWbN",
    "outputId": "4a5e8fe8-ef2d-4478-f939-30404b28bd1a"
   },
   "outputs": [
    {
     "name": "stdout",
     "output_type": "stream",
     "text": [
      "WARNING:tensorflow:From /usr/local/lib/python3.6/dist-packages/keras/optimizers.py:793: The name tf.train.Optimizer is deprecated. Please use tf.compat.v1.train.Optimizer instead.\n",
      "\n",
      "WARNING:tensorflow:From /usr/local/lib/python3.6/dist-packages/keras/backend/tensorflow_backend.py:3576: The name tf.log is deprecated. Please use tf.math.log instead.\n",
      "\n"
     ]
    }
   ],
   "source": [
    " #opt = SGD(lr=0.01, momentum=0.9)\n",
    "\n",
    "model1.compile(optimizer='rmsprop',loss='categorical_crossentropy',metrics=['accuracy'])\n"
   ]
  },
  {
   "cell_type": "markdown",
   "metadata": {
    "colab_type": "text",
    "id": "4wBqEHAFg_ZJ"
   },
   "source": [
    "### Training the model:"
   ]
  },
  {
   "cell_type": "code",
   "execution_count": 15,
   "metadata": {
    "colab": {
     "base_uri": "https://localhost:8080/",
     "height": 687
    },
    "colab_type": "code",
    "id": "dYILk87pniyX",
    "outputId": "f020b351-1bf8-45e2-cb68-e938d3f958bd"
   },
   "outputs": [
    {
     "name": "stdout",
     "output_type": "stream",
     "text": [
      "WARNING:tensorflow:From /usr/local/lib/python3.6/dist-packages/tensorflow_core/python/ops/math_grad.py:1424: where (from tensorflow.python.ops.array_ops) is deprecated and will be removed in a future version.\n",
      "Instructions for updating:\n",
      "Use tf.where in 2.0, which has the same broadcast rule as np.where\n",
      "WARNING:tensorflow:From /usr/local/lib/python3.6/dist-packages/keras/backend/tensorflow_backend.py:1033: The name tf.assign_add is deprecated. Please use tf.compat.v1.assign_add instead.\n",
      "\n",
      "WARNING:tensorflow:From /usr/local/lib/python3.6/dist-packages/keras/backend/tensorflow_backend.py:1020: The name tf.assign is deprecated. Please use tf.compat.v1.assign instead.\n",
      "\n",
      "WARNING:tensorflow:From /usr/local/lib/python3.6/dist-packages/keras/backend/tensorflow_backend.py:3005: The name tf.Session is deprecated. Please use tf.compat.v1.Session instead.\n",
      "\n",
      "Train on 50000 samples, validate on 10000 samples\n",
      "Epoch 1/10\n",
      "WARNING:tensorflow:From /usr/local/lib/python3.6/dist-packages/keras/backend/tensorflow_backend.py:190: The name tf.get_default_session is deprecated. Please use tf.compat.v1.get_default_session instead.\n",
      "\n",
      "WARNING:tensorflow:From /usr/local/lib/python3.6/dist-packages/keras/backend/tensorflow_backend.py:197: The name tf.ConfigProto is deprecated. Please use tf.compat.v1.ConfigProto instead.\n",
      "\n",
      "WARNING:tensorflow:From /usr/local/lib/python3.6/dist-packages/keras/backend/tensorflow_backend.py:207: The name tf.global_variables is deprecated. Please use tf.compat.v1.global_variables instead.\n",
      "\n",
      "WARNING:tensorflow:From /usr/local/lib/python3.6/dist-packages/keras/backend/tensorflow_backend.py:216: The name tf.is_variable_initialized is deprecated. Please use tf.compat.v1.is_variable_initialized instead.\n",
      "\n",
      "WARNING:tensorflow:From /usr/local/lib/python3.6/dist-packages/keras/backend/tensorflow_backend.py:223: The name tf.variables_initializer is deprecated. Please use tf.compat.v1.variables_initializer instead.\n",
      "\n",
      "50000/50000 [==============================] - 24s 472us/step - loss: 0.1165 - acc: 0.9633 - val_loss: 0.0648 - val_acc: 0.9802\n",
      "Epoch 2/10\n",
      "50000/50000 [==============================] - 8s 156us/step - loss: 0.0412 - acc: 0.9874 - val_loss: 0.0555 - val_acc: 0.9841\n",
      "Epoch 3/10\n",
      "50000/50000 [==============================] - 8s 162us/step - loss: 0.0280 - acc: 0.9915 - val_loss: 0.0518 - val_acc: 0.9878\n",
      "Epoch 4/10\n",
      "50000/50000 [==============================] - 8s 161us/step - loss: 0.0203 - acc: 0.9942 - val_loss: 0.0498 - val_acc: 0.9878\n",
      "Epoch 5/10\n",
      "50000/50000 [==============================] - 8s 160us/step - loss: 0.0156 - acc: 0.9960 - val_loss: 0.0554 - val_acc: 0.9885\n",
      "Epoch 6/10\n",
      "50000/50000 [==============================] - 8s 156us/step - loss: 0.0117 - acc: 0.9965 - val_loss: 0.0680 - val_acc: 0.9876\n",
      "Epoch 7/10\n",
      "50000/50000 [==============================] - 8s 157us/step - loss: 0.0097 - acc: 0.9975 - val_loss: 0.0866 - val_acc: 0.9869\n",
      "Epoch 8/10\n",
      "50000/50000 [==============================] - 8s 159us/step - loss: 0.0070 - acc: 0.9981 - val_loss: 0.0900 - val_acc: 0.9865\n",
      "Epoch 9/10\n",
      "50000/50000 [==============================] - 8s 159us/step - loss: 0.0055 - acc: 0.9986 - val_loss: 0.0863 - val_acc: 0.9885\n",
      "Epoch 10/10\n",
      "50000/50000 [==============================] - 8s 155us/step - loss: 0.0045 - acc: 0.9988 - val_loss: 0.0961 - val_acc: 0.9885\n"
     ]
    }
   ],
   "source": [
    "history = model1.fit(partial_x_train,partial_train_labels,epochs = 10, batch_size = 32,validation_data=(x_val, y_val_labels))"
   ]
  },
  {
   "cell_type": "code",
   "execution_count": 16,
   "metadata": {
    "colab": {
     "base_uri": "https://localhost:8080/",
     "height": 66
    },
    "colab_type": "code",
    "id": "LgNobtyWfoPG",
    "outputId": "0a89a95e-2ca7-4b4c-ccfc-7eebaa45ca62"
   },
   "outputs": [
    {
     "name": "stdout",
     "output_type": "stream",
     "text": [
      "10000/10000 [==============================] - 1s 58us/step\n",
      "Test loss: 0.0802682338032306\n",
      "Test accuracy: 0.9902\n"
     ]
    }
   ],
   "source": [
    "score1 = model1.evaluate(x_test,test_labels)\n",
    "print('Test loss:', score1[0])\n",
    "print('Test accuracy:', score1[1])"
   ]
  },
  {
   "cell_type": "markdown",
   "metadata": {
    "colab_type": "text",
    "id": "z1wzOeFpDB3J"
   },
   "source": [
    "## **Plotting the training and validation loss**"
   ]
  },
  {
   "cell_type": "code",
   "execution_count": 17,
   "metadata": {
    "colab": {
     "base_uri": "https://localhost:8080/",
     "height": 295
    },
    "colab_type": "code",
    "id": "L9GITVNiDBHF",
    "outputId": "02343262-086b-4e5b-f73f-23f6cf1c03ba"
   },
   "outputs": [
    {
     "data": {
      "image/png": "[encoded data removed]",
      "text/plain": [
       "<Figure size 432x288 with 1 Axes>"
      ]
     },
     "metadata": {
      "tags": []
     },
     "output_type": "display_data"
    }
   ],
   "source": [
    "history_dict = history.history\n",
    "loss_values = history_dict['loss']\n",
    "val_loss_values = history_dict['val_loss']\n",
    "epochs = range(1, len(history_dict['acc']) + 1)\n",
    "plt.plot(epochs, loss_values, 'go', label='Training loss')\n",
    "plt.plot(epochs, val_loss_values, 'b', label='Validation loss')\n",
    "plt.title('Training and validation loss')\n",
    "plt.xlabel('Epochs')\n",
    "plt.ylabel('Loss')\n",
    "plt.legend()\n",
    "plt.show()"
   ]
  },
  {
   "cell_type": "code",
   "execution_count": 18,
   "metadata": {
    "colab": {
     "base_uri": "https://localhost:8080/",
     "height": 295
    },
    "colab_type": "code",
    "id": "os7LfNRLDBK9",
    "outputId": "51444cc1-7768-4da5-e0b3-065a30af270a"
   },
   "outputs": [
    {
     "data": {
      "image/png": "[encoded data removed]",
      "text/plain": [
       "<Figure size 432x288 with 1 Axes>"
      ]
     },
     "metadata": {
      "tags": []
     },
     "output_type": "display_data"
    }
   ],
   "source": [
    "plt.clf()\n",
    "acc_values = history_dict['acc']\n",
    "val_acc_values = history_dict['val_acc']\n",
    "plt.plot(epochs, history_dict['acc'], 'bo', label='Training acc')\n",
    "plt.plot(epochs, history_dict['val_acc'], 'g', label='Validation acc')\n",
    "plt.title('Training and validation accuracy')\n",
    "plt.xlabel('Epochs')\n",
    "plt.ylabel('acc')\n",
    "plt.legend()\n",
    "plt.show()"
   ]
  },
  {
   "cell_type": "markdown",
   "metadata": {
    "colab_type": "text",
    "id": "iqm4Z7cYjFtW"
   },
   "source": [
    "## Conclusions:\n",
    "\n",
    "\n",
    "the training loss decreases with every epoch, and the training accuracy increases with every epoch\n",
    "that isn’t the case for the validation loss and accuracy: \n",
    "=> ***Overfiting***\n",
    "\n"
   ]
  },
  {
   "cell_type": "markdown",
   "metadata": {
    "colab_type": "text",
    "id": "3ZkdOLdYjjFX"
   },
   "source": [
    "# **Model 2:**\n",
    "\n",
    "---\n",
    "\n"
   ]
  },
  {
   "cell_type": "markdown",
   "metadata": {
    "colab_type": "text",
    "id": "13OX9IiqjnvW"
   },
   "source": [
    "### **To avoid overfitting we can :**\n",
    "### * added a regulizer \n",
    "### * Add dropout\n",
    "### * decrease the number of norones in order to Reduce the capacity of the network\n",
    "### * added another MaxPooling layer to concentrate on the most intense colors ### and decrease the number of parameters.\n"
   ]
  },
  {
   "cell_type": "markdown",
   "metadata": {
    "colab_type": "text",
    "id": "XMnVC2ERkdYj"
   },
   "source": [
    "## **Defining the model and adding an extra layer of MAxPooling**"
   ]
  },
  {
   "cell_type": "code",
   "execution_count": null,
   "metadata": {
    "colab": {},
    "colab_type": "code",
    "id": "IPkyXk3RwjnF"
   },
   "outputs": [],
   "source": [
    "model = Sequential()\n",
    "#keras.layers.Conv2D(filters, kernel_size, strides=(1, 1), padding='valid')\n",
    "model.add(Conv2D(32, (3, 3), activation='relu', input_shape=(28, 28, 1))) #Conv2D avec 32 filters , kernel size 3*3 , relu activation , input shape     \n",
    "model.add(MaxPooling2D((2, 2))) #MaxPooling2D avec pool_size 2*2\n",
    "model.add(Conv2D(64, (3, 3), activation='relu')) #Conv2D avec 64 filters , kernel size 3*3 , relu activation\n",
    "model.add(MaxPooling2D((2, 2))) #MaxPooling2D avec pool_size 2*2\n",
    "model.add(Conv2D(64, (3, 3), activation='relu')) #Conv2D avec 64 filters , kernel size 3*3 , relu activation\n",
    "model.add(Flatten()) # Flatten\n",
    "model.add(Dense(128, activation='relu')) # Dense avec 128 units \n",
    "model.add(Dense(10, activation='softmax')) # Dense"
   ]
  },
  {
   "cell_type": "code",
   "execution_count": 70,
   "metadata": {
    "colab": {
     "base_uri": "https://localhost:8080/",
     "height": 407
    },
    "colab_type": "code",
    "id": "iQZOharKW2B-",
    "outputId": "06f50ab8-f1a3-44c1-f01f-2de2a8b3db4d"
   },
   "outputs": [
    {
     "name": "stdout",
     "output_type": "stream",
     "text": [
      "Model: \"sequential_7\"\n",
      "_________________________________________________________________\n",
      "Layer (type)                 Output Shape              Param #   \n",
      "=================================================================\n",
      "conv2d_18 (Conv2D)           (None, 26, 26, 32)        320       \n",
      "_________________________________________________________________\n",
      "max_pooling2d_12 (MaxPooling (None, 13, 13, 32)        0         \n",
      "_________________________________________________________________\n",
      "conv2d_19 (Conv2D)           (None, 11, 11, 64)        18496     \n",
      "_________________________________________________________________\n",
      "max_pooling2d_13 (MaxPooling (None, 5, 5, 64)          0         \n",
      "_________________________________________________________________\n",
      "conv2d_20 (Conv2D)           (None, 3, 3, 64)          36928     \n",
      "_________________________________________________________________\n",
      "flatten_7 (Flatten)          (None, 576)               0         \n",
      "_________________________________________________________________\n",
      "dense_13 (Dense)             (None, 128)               73856     \n",
      "_________________________________________________________________\n",
      "dense_14 (Dense)             (None, 10)                1290      \n",
      "=================================================================\n",
      "Total params: 130,890\n",
      "Trainable params: 130,890\n",
      "Non-trainable params: 0\n",
      "_________________________________________________________________\n"
     ]
    }
   ],
   "source": [
    "model.summary()"
   ]
  },
  {
   "cell_type": "markdown",
   "metadata": {
    "colab_type": "text",
    "id": "2Zmn1caCvoGT"
   },
   "source": [
    "as we can see the first Total params Model is **1,199,882** and the second is **130,890**"
   ]
  },
  {
   "cell_type": "markdown",
   "metadata": {
    "colab_type": "text",
    "id": "PJG_MrMwkv_S"
   },
   "source": [
    "### Compiling the model"
   ]
  },
  {
   "cell_type": "code",
   "execution_count": null,
   "metadata": {
    "colab": {},
    "colab_type": "code",
    "id": "hXkw6raHwjnH"
   },
   "outputs": [],
   "source": [
    "#opt = SGD(lr=0.01, momentum=0.9)\n",
    "model.compile(optimizer='rmsprop', loss='categorical_crossentropy', metrics=['accuracy'])"
   ]
  },
  {
   "cell_type": "markdown",
   "metadata": {
    "colab_type": "text",
    "id": "4vVgHbY-W8tg"
   },
   "source": [
    "### Training the model"
   ]
  },
  {
   "cell_type": "code",
   "execution_count": 39,
   "metadata": {
    "colab": {
     "base_uri": "https://localhost:8080/",
     "height": 358
    },
    "colab_type": "code",
    "id": "EANS_gRBHBGO",
    "outputId": "548e072f-54cf-401b-e19f-f6d9e253da19"
   },
   "outputs": [
    {
     "name": "stdout",
     "output_type": "stream",
     "text": [
      "Train on 50000 samples, validate on 10000 samples\n",
      "Epoch 1/10\n",
      "50000/50000 [==============================] - 5s 92us/step - loss: 0.1707 - acc: 0.9466 - val_loss: 0.1086 - val_acc: 0.9663\n",
      "Epoch 2/10\n",
      "50000/50000 [==============================] - 4s 76us/step - loss: 0.0476 - acc: 0.9850 - val_loss: 0.0654 - val_acc: 0.9811\n",
      "Epoch 3/10\n",
      "50000/50000 [==============================] - 4s 76us/step - loss: 0.0336 - acc: 0.9897 - val_loss: 0.0383 - val_acc: 0.9885\n",
      "Epoch 4/10\n",
      "50000/50000 [==============================] - 4s 76us/step - loss: 0.0249 - acc: 0.9918 - val_loss: 0.0323 - val_acc: 0.9908\n",
      "Epoch 5/10\n",
      "50000/50000 [==============================] - 4s 78us/step - loss: 0.0197 - acc: 0.9941 - val_loss: 0.0386 - val_acc: 0.9905\n",
      "Epoch 6/10\n",
      "50000/50000 [==============================] - 4s 82us/step - loss: 0.0149 - acc: 0.9955 - val_loss: 0.0488 - val_acc: 0.9881\n",
      "Epoch 7/10\n",
      "50000/50000 [==============================] - 4s 78us/step - loss: 0.0131 - acc: 0.9961 - val_loss: 0.0506 - val_acc: 0.9879\n",
      "Epoch 8/10\n",
      "50000/50000 [==============================] - 4s 80us/step - loss: 0.0103 - acc: 0.9969 - val_loss: 0.0386 - val_acc: 0.9909\n",
      "Epoch 9/10\n",
      "50000/50000 [==============================] - 4s 76us/step - loss: 0.0083 - acc: 0.9973 - val_loss: 0.0474 - val_acc: 0.9896\n",
      "Epoch 10/10\n",
      "50000/50000 [==============================] - 4s 76us/step - loss: 0.0080 - acc: 0.9978 - val_loss: 0.0538 - val_acc: 0.9891\n"
     ]
    }
   ],
   "source": [
    "history2 = model.fit(partial_x_train,partial_train_labels,epochs=10,batch_size=64,validation_data=(x_val, y_val_labels))"
   ]
  },
  {
   "cell_type": "code",
   "execution_count": 40,
   "metadata": {
    "colab": {
     "base_uri": "https://localhost:8080/",
     "height": 33
    },
    "colab_type": "code",
    "id": "en9QbxBDHoyY",
    "outputId": "375381f8-ea8b-4783-f7c0-9f646e01f3c8"
   },
   "outputs": [
    {
     "data": {
      "text/plain": [
       "dict_keys(['val_loss', 'val_acc', 'loss', 'acc'])"
      ]
     },
     "execution_count": 40,
     "metadata": {
      "tags": []
     },
     "output_type": "execute_result"
    }
   ],
   "source": [
    "history_dict = history2.history\n",
    "history_dict.keys()"
   ]
  },
  {
   "cell_type": "code",
   "execution_count": 41,
   "metadata": {
    "colab": {
     "base_uri": "https://localhost:8080/",
     "height": 66
    },
    "colab_type": "code",
    "id": "d22vEHSFRlGn",
    "outputId": "c5959ae7-7db6-4a22-e3b7-03f06ae14c57"
   },
   "outputs": [
    {
     "name": "stdout",
     "output_type": "stream",
     "text": [
      "10000/10000 [==============================] - 1s 58us/step\n",
      "Test loss: 0.042497919273262415\n",
      "Test accuracy: 0.9911\n"
     ]
    }
   ],
   "source": [
    "score = model.evaluate(x_test,test_labels)\n",
    "print('Test loss:', score[0])\n",
    "print('Test accuracy:', score[1])"
   ]
  },
  {
   "cell_type": "markdown",
   "metadata": {
    "colab_type": "text",
    "id": "bXMGp8RcIEAr"
   },
   "source": [
    "### Plotting the training and validation loss"
   ]
  },
  {
   "cell_type": "code",
   "execution_count": 42,
   "metadata": {
    "colab": {
     "base_uri": "https://localhost:8080/",
     "height": 295
    },
    "colab_type": "code",
    "id": "kzhpJCX_IG4c",
    "outputId": "5eb1e52b-d25c-4e54-f374-3a621f1ba256"
   },
   "outputs": [
    {
     "data": {
      "image/png": "[encoded data removed]",
      "text/plain": [
       "<Figure size 432x288 with 1 Axes>"
      ]
     },
     "metadata": {
      "tags": []
     },
     "output_type": "display_data"
    }
   ],
   "source": [
    "\n",
    "history_dict = history2.history\n",
    "loss_values = history_dict['loss']\n",
    "val_loss_values = history_dict['val_loss']\n",
    "epochs = range(1, len(history_dict['acc']) + 1)\n",
    "plt.plot(epochs, loss_values, 'go', label='Training loss')\n",
    "plt.plot(epochs, val_loss_values, 'b', label='Validation loss')\n",
    "plt.title('Training and validation loss')\n",
    "plt.xlabel('Epochs')\n",
    "plt.ylabel('Loss')\n",
    "plt.legend()\n",
    "plt.show()"
   ]
  },
  {
   "cell_type": "code",
   "execution_count": 43,
   "metadata": {
    "colab": {
     "base_uri": "https://localhost:8080/",
     "height": 295
    },
    "colab_type": "code",
    "id": "BuZ0x7AyIKja",
    "outputId": "2dc811f1-7a15-4448-a7cd-aaabca7772ec"
   },
   "outputs": [
    {
     "data": {
      "image/png": "[encoded data removed]",
      "text/plain": [
       "<Figure size 432x288 with 1 Axes>"
      ]
     },
     "metadata": {
      "tags": []
     },
     "output_type": "display_data"
    }
   ],
   "source": [
    "plt.clf()\n",
    "acc_values = history_dict['acc']\n",
    "val_acc_values = history_dict['val_acc']\n",
    "plt.plot(epochs, history_dict['acc'], 'bo', label='Training acc')\n",
    "plt.plot(epochs, history_dict['val_acc'], 'g', label='Validation acc')\n",
    "plt.title('Training and validation accuracy')\n",
    "plt.xlabel('Epochs')\n",
    "plt.ylabel('acc')\n",
    "plt.legend()\n",
    "plt.show()"
   ]
  },
  {
   "cell_type": "markdown",
   "metadata": {
    "colab_type": "text",
    "id": "wbGEaEobwI_q"
   },
   "source": [
    "# It's clear that the over fitting starts at the 4th epoch. so our Final Model parameters are :\n",
    "\n",
    "### **epochs=4**\n",
    "### **batch_size=64**\n",
    "### **optimizer=rmsprop**\n",
    "### **loss=categorical_crossentropy**"
   ]
  },
  {
   "cell_type": "markdown",
   "metadata": {
    "colab_type": "text",
    "id": "MRBOsLK4wxwo"
   },
   "source": [
    "# **Final Model**\n",
    "\n",
    "\n",
    "---\n",
    "\n",
    "\n",
    "\n",
    "\n"
   ]
  },
  {
   "cell_type": "code",
   "execution_count": 72,
   "metadata": {
    "colab": {
     "base_uri": "https://localhost:8080/",
     "height": 163
    },
    "colab_type": "code",
    "id": "Fk8go63XIqUi",
    "outputId": "9c097eed-107b-4af6-d77c-64daac47b0d1"
   },
   "outputs": [
    {
     "name": "stdout",
     "output_type": "stream",
     "text": [
      "Train on 50000 samples, validate on 10000 samples\n",
      "Epoch 1/4\n",
      "50000/50000 [==============================] - 5s 93us/step - loss: 0.1691 - acc: 0.9461 - val_loss: 0.0821 - val_acc: 0.9743\n",
      "Epoch 2/4\n",
      "50000/50000 [==============================] - 4s 77us/step - loss: 0.0474 - acc: 0.9854 - val_loss: 0.0416 - val_acc: 0.9870\n",
      "Epoch 3/4\n",
      "50000/50000 [==============================] - 4s 78us/step - loss: 0.0320 - acc: 0.9902 - val_loss: 0.0752 - val_acc: 0.9781\n",
      "Epoch 4/4\n",
      "50000/50000 [==============================] - 4s 77us/step - loss: 0.0247 - acc: 0.9921 - val_loss: 0.0402 - val_acc: 0.9898\n"
     ]
    }
   ],
   "source": [
    "history3 = model.fit(partial_x_train,partial_train_labels,epochs=4,batch_size=64,validation_data=(x_val, y_val_labels))"
   ]
  },
  {
   "cell_type": "code",
   "execution_count": 73,
   "metadata": {
    "colab": {
     "base_uri": "https://localhost:8080/",
     "height": 66
    },
    "colab_type": "code",
    "id": "E5xK9qKCuWdj",
    "outputId": "7e9505f0-4f07-48ef-cb02-6b25715fb158"
   },
   "outputs": [
    {
     "name": "stdout",
     "output_type": "stream",
     "text": [
      "10000/10000 [==============================] - 1s 53us/step\n",
      "Test loss: 0.027375477040464467\n",
      "Test accuracy: 0.9916\n"
     ]
    }
   ],
   "source": [
    "score = model.evaluate(x_test,test_labels)\n",
    "print('Test loss:', score[0])\n",
    "print('Test accuracy:', score[1])"
   ]
  },
  {
   "cell_type": "markdown",
   "metadata": {
    "colab_type": "text",
    "id": "O_OMXPs-2SOz"
   },
   "source": [
    " the densely connected network from the last workshop had a test accuracy of 97%,\n",
    "the basic convnet has a test accuracy of 99% => We are good to go"
   ]
  },
  {
   "cell_type": "markdown",
   "metadata": {
    "colab_type": "text",
    "id": "BtAFw5gfv9xf"
   },
   "source": []
  }
 ],
 "metadata": {
  "accelerator": "GPU",
  "colab": {
   "collapsed_sections": [],
   "name": "Notebook4_CNN.ipynb",
   "provenance": []
  },
  "kernelspec": {
   "display_name": "Python 3",
   "language": "python",
   "name": "python3"
  },
  "language_info": {
   "codemirror_mode": {
    "name": "ipython",
    "version": 3
   },
   "file_extension": ".py",
   "mimetype": "text/x-python",
   "name": "python",
   "nbconvert_exporter": "python",
   "pygments_lexer": "ipython3",
   "version": "3.6.9"
  }
 },
 "nbformat": 4,
 "nbformat_minor": 4
}
